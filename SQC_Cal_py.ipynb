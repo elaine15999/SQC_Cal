{
  "nbformat": 4,
  "nbformat_minor": 0,
  "metadata": {
    "colab": {
      "name": "SQC_Cal.py",
      "provenance": [],
      "authorship_tag": "ABX9TyMTxk/Cm01urVoL2QDfvaGK",
      "include_colab_link": true
    },
    "kernelspec": {
      "name": "python3",
      "display_name": "Python 3"
    }
  },
  "cells": [
    {
      "cell_type": "markdown",
      "metadata": {
        "id": "view-in-github",
        "colab_type": "text"
      },
      "source": [
        "<a href=\"https://colab.research.google.com/github/elaine15999/SQC_Cal/blob/main/SQC_Cal_py.ipynb\" target=\"_parent\"><img src=\"https://colab.research.google.com/assets/colab-badge.svg\" alt=\"Open In Colab\"/></a>"
      ]
    },
    {
      "cell_type": "code",
      "metadata": {
        "id": "RB4BYgbvOTCQ"
      },
      "source": [
        "s_score = []\r\n",
        "q_score = []\r\n",
        "c_score = []\r\n",
        "\r\n",
        "print('請逐筆輸入S細項分數')\r\n",
        "for i in range(0, 12):          \r\n",
        "    if i < 2:\r\n",
        "        print('S'+ str(i+1),':')\r\n",
        "    elif i>=2:\r\n",
        "        if i<6:\r\n",
        "            print('S3-'+str(i-1),':')\r\n",
        "        elif i>=6:\r\n",
        "            if i<9:\r\n",
        "                print('S4-'+str(i-5),':')\r\n",
        "            elif i>=9:\r\n",
        "                print('S5-'+str(i-8),':')\r\n",
        "    s_score.append(int(input()))\r\n",
        "\r\n",
        "print('請逐筆輸入Q細項分數')\r\n",
        "for i in range(0, 15):  \r\n",
        "    if i==0:\r\n",
        "        print('Q1 :')\r\n",
        "    elif i>=1:\r\n",
        "        if i<7:\r\n",
        "            print('Q2-'+str(i),':')\r\n",
        "        elif i>=7:\r\n",
        "            if i<10:\r\n",
        "                print('Q3-'+str(i-6),':')\r\n",
        "            elif i>=10:\r\n",
        "                if i<13:\r\n",
        "                    print('Q4-'+str(i-9),':') \r\n",
        "                elif i>=13:\r\n",
        "                    print('Q5-'+str(i-12),':') \r\n",
        "    q_score.append(int(input()))\r\n",
        "\r\n",
        "print('請逐筆輸入C細項分數')\r\n",
        "for i in range(0, 15):   \r\n",
        "    if i<2:\r\n",
        "        print('C1-'+str(i+1),':')\r\n",
        "    elif i>=2:\r\n",
        "        if i<8:\r\n",
        "            print('C2-'+str(i-1),':')\r\n",
        "        elif i>=8:\r\n",
        "            if i<12:\r\n",
        "                print('C3-'+str(i-7),':')\r\n",
        "            elif i>=12:\r\n",
        "                print('C4-'+str(i-11),':') \r\n",
        "                   \r\n",
        "    c_score.append(int(input()))\r\n",
        "\r\n",
        "print('S總分:'+ str(sum(s_score))+ '\\nQ總分:'+ str(sum(q_score))+ '\\nC總分:'+ str(sum(c_score)))"
      ],
      "execution_count": null,
      "outputs": []
    }
  ]
}